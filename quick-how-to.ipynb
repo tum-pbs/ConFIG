{
 "cells": [
  {
   "cell_type": "code",
   "execution_count": null,
   "id": "bfb998b0",
   "metadata": {},
   "outputs": [],
   "source": [
    "In Progress"
   ]
  }
 ],
 "metadata": {
  "kernelspec": {
   "display_name": "Python [conda env:pytorch] *",
   "language": "python",
   "name": "conda-env-pytorch-py"
  },
  "language_info": {
   "codemirror_mode": {
    "name": "ipython",
    "version": 3
   },
   "file_extension": ".py",
   "mimetype": "text/x-python",
   "name": "python",
   "nbconvert_exporter": "python",
   "pygments_lexer": "ipython3",
   "version": "3.10.4"
  }
 },
 "nbformat": 4,
 "nbformat_minor": 5
}
